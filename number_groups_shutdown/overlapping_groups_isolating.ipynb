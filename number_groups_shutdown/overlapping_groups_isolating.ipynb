{
 "cells": [
  {
   "cell_type": "markdown",
   "metadata": {},
   "source": [
    "This notebook performs simple calculations on the number of groups who might be expected to have to isolate given:\n",
    "- a probability that an individual is going to test positive, uniform over the population\n",
    "- specified group sizes \n",
    "\n",
    "Many simplifying assumptions have been made, a fuller description is in the README for this repo, these include:\n",
    "- groups within one type are non-overlapping\n",
    "- groups between two types are non-correlated\n",
    "- the probability of an individual testing positive is uniform and static.  There is no dynamic disease model.\n",
    "- this calculation is of most use when the size of the overall population is much larger than the individual groups\n",
    "\n",
    "Apologies for the ugly names for the sliders - they mean:\n",
    "- percent_pos: the *percent* of individuals that we expect to test positive\n",
    "- size_1: the size of the first type of group\n",
    "- size_2: the size of the second type of group"
   ]
  },
  {
   "cell_type": "code",
   "execution_count": 1,
   "metadata": {},
   "outputs": [
    {
     "data": {
      "application/vnd.jupyter.widget-view+json": {
       "model_id": "1cb68ab4e9374657b347bf7631204652",
       "version_major": 2,
       "version_minor": 0
      },
      "text/plain": [
       "interactive(children=(FloatSlider(value=1.05, description='percent_pos', max=2.0, min=0.1), IntSlider(value=25…"
      ]
     },
     "metadata": {},
     "output_type": "display_data"
    }
   ],
   "source": [
    "import math\n",
    "import matplotlib.pyplot as plt\n",
    "from IPython.display import display\n",
    "from ipywidgets import interact\n",
    "from ipywidgets import interact, interactive, fixed, interact_manual\n",
    "import ipywidgets as widgets\n",
    "\n",
    "def isolating_function_one_setting(p, k):\n",
    "   return 1-(1-p)**k\n",
    "\n",
    "def overlapping_groups(percent_pos, size_1, size_2):\n",
    "    prob_pos = percent_pos/100\n",
    "    proportion_1 = isolating_function_one_setting(prob_pos, size_1)\n",
    "    proportion_2 = isolating_function_one_setting(prob_pos, size_2)\n",
    "    overall = proportion_1 + proportion_2 - proportion_1*proportion_2\n",
    "    print('Expected percentage required to isolate: ' + str(100*round(overall, 3)) + \"%\")\n",
    "    \n",
    "    \n",
    "interact(overlapping_groups, percent_pos=(0.1, 2.0), size_1=(0,50), size_2=(0,50));\n",
    "\n"
   ]
  },
  {
   "cell_type": "code",
   "execution_count": null,
   "metadata": {},
   "outputs": [],
   "source": []
  }
 ],
 "metadata": {
  "kernelspec": {
   "display_name": "Python 3",
   "language": "python",
   "name": "python3"
  },
  "language_info": {
   "codemirror_mode": {
    "name": "ipython",
    "version": 3
   },
   "file_extension": ".py",
   "mimetype": "text/x-python",
   "name": "python",
   "nbconvert_exporter": "python",
   "pygments_lexer": "ipython3",
   "version": "3.7.6"
  }
 },
 "nbformat": 4,
 "nbformat_minor": 4
}
